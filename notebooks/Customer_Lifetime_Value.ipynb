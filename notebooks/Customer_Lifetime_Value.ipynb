{
 "cells": [
  {
   "cell_type": "markdown",
   "metadata": {},
   "source": [
    "# Customer Lifetime Value"
   ]
  },
  {
   "cell_type": "code",
   "execution_count": 1,
   "metadata": {},
   "outputs": [],
   "source": [
    "#Client id\n",
    "id = 'be1c4e52bb71e0c54b11a26b8e8d59f2'"
   ]
  },
  {
   "cell_type": "code",
   "execution_count": 2,
   "metadata": {},
   "outputs": [
    {
     "name": "stdout",
     "output_type": "stream",
     "text": [
      "Customer average review score: 1.00\n",
      "Average item price: 65.41 R$\n",
      "Average freight price: 11.02 R$\n",
      "Average delay: 0.00 %\n",
      "Average order price: 784.98 R$\n",
      "Client's city average revenue by client: 107.42 R$\n",
      "Client's state average revenue by client: 109.58 R$\n"
     ]
    }
   ],
   "source": [
    "import numpy as np\n",
    "import pandas as pd\n",
    "import matplotlib.pyplot as plt\n",
    "import datetime as dt\n",
    "orders = pd.read_csv('../dataset/olist_orders_dataset.csv', delimiter = ',')\n",
    "customers = pd.read_csv('../dataset/olist_customers_dataset.csv', delimiter = ',')\n",
    "reviews = pd.read_csv('../dataset/olist_order_reviews_dataset.csv', delimiter = ',')\n",
    "payment = pd.read_csv('../dataset/olist_order_payments_dataset.csv', delimiter = ',')\n",
    "order_items = pd.read_csv('../dataset/olist_order_items_dataset.csv', delimiter = ',')\n",
    "products = pd.read_csv('../dataset/olist_products_dataset.csv', delimiter = ',')\n",
    "\n",
    "named_items = pd.merge(order_items, products, on='product_id')\n",
    "named_items = named_items[['order_id', 'price', 'freight_value', 'product_category_name']]\n",
    "\n",
    "final = pd.merge(orders, customers, on='customer_id')\n",
    "final = pd.merge(final, reviews, on='order_id')\n",
    "#final = pd.merge(final, payment, on='order_id')\n",
    "final = pd.merge(final, named_items, on='order_id')\n",
    "\n",
    "client = final.loc[(final['customer_id'] == id)]\n",
    "\n",
    "client = client.drop_duplicates()\n",
    "\n",
    "client = client[['order_id','order_status', 'customer_city', 'customer_state', \n",
    "                 'review_score','price', 'freight_value', 'product_category_name', \n",
    "                 'order_delivered_customer_date', 'order_estimated_delivery_date',\n",
    "                 'order_purchase_timestamp']]\n",
    "\n",
    "client['order_delivered_customer_date'] = pd.to_datetime(client['order_delivered_customer_date'])\n",
    "client['order_estimated_delivery_date'] = pd.to_datetime(client['order_estimated_delivery_date'])\n",
    "client['order_purchase_timestamp'] = pd.to_datetime(client['order_purchase_timestamp'])\n",
    "\n",
    "\n",
    "client['is_delayed'] = client['order_delivered_customer_date'] > client['order_estimated_delivery_date']\n",
    "client['time_delay'] = client['order_delivered_customer_date'] - client['order_estimated_delivery_date']\n",
    "client['time_to_wait'] = client['order_estimated_delivery_date'] - client['order_purchase_timestamp']\n",
    "client['time_waited'] = client['order_delivered_customer_date'] - client['order_purchase_timestamp']\n",
    "\n",
    "favorite_category = client.groupby([\"product_category_name\"]).size().reset_index(name=\"amount\")\n",
    "\n",
    "client['total'] = client['price'] + client['freight_value'] \n",
    "\n",
    "m = client.mean()\n",
    "\n",
    "print('Customer average review score:', (\"%.2f\" % m[0]))\n",
    "print('Average item price:', (\"%.2f\" % m[1]),'R$')\n",
    "print('Average freight price:', (\"%.2f\" % m[2]),'R$')\n",
    "print('Average delay:', (\"%.2f\" % (m[3]*100)), '%')\n",
    "\n",
    "average_order = client.groupby('order_id', as_index=False)['price'].sum()\n",
    "\n",
    "print('Average order price:', (\"%.2f\" % average_order.mean()[0]),'R$')\n",
    "\n",
    "# region analisis\n",
    "city_average_revenue = final.groupby('customer_city', as_index=False)['price'].mean()\n",
    "state_average_revenue = final.groupby('customer_state', as_index=False)['price'].mean()\n",
    "\n",
    "city = city_average_revenue.loc[(city_average_revenue['customer_city'] == client.iloc[0]['customer_city'])]\n",
    "state = state_average_revenue.loc[(state_average_revenue['customer_state'] == client.iloc[0]['customer_state'])]\n",
    "\n",
    "\n",
    "print('Client\\'s city average revenue by client:', (\"%.2f\" % (city.iloc[0]['price'])),'R$')\n",
    "print('Client\\'s state average revenue by client:', (\"%.2f\" % (state.iloc[0]['price'])),'R$')"
   ]
  },
  {
   "cell_type": "markdown",
   "metadata": {},
   "source": [
    "# Client's most bought categories"
   ]
  },
  {
   "cell_type": "code",
   "execution_count": 3,
   "metadata": {},
   "outputs": [
    {
     "data": {
      "text/html": [
       "<div>\n",
       "<style scoped>\n",
       "    .dataframe tbody tr th:only-of-type {\n",
       "        vertical-align: middle;\n",
       "    }\n",
       "\n",
       "    .dataframe tbody tr th {\n",
       "        vertical-align: top;\n",
       "    }\n",
       "\n",
       "    .dataframe thead th {\n",
       "        text-align: right;\n",
       "    }\n",
       "</style>\n",
       "<table border=\"1\" class=\"dataframe\">\n",
       "  <thead>\n",
       "    <tr style=\"text-align: right;\">\n",
       "      <th></th>\n",
       "      <th>product_category_name</th>\n",
       "      <th>amount</th>\n",
       "    </tr>\n",
       "  </thead>\n",
       "  <tbody>\n",
       "    <tr>\n",
       "      <th>0</th>\n",
       "      <td>cama_mesa_banho</td>\n",
       "      <td>12</td>\n",
       "    </tr>\n",
       "  </tbody>\n",
       "</table>\n",
       "</div>"
      ],
      "text/plain": [
       "  product_category_name  amount\n",
       "0       cama_mesa_banho      12"
      ]
     },
     "execution_count": 3,
     "metadata": {},
     "output_type": "execute_result"
    }
   ],
   "source": [
    "favorite_category.head()"
   ]
  },
  {
   "cell_type": "code",
   "execution_count": 4,
   "metadata": {},
   "outputs": [
    {
     "data": {
      "text/html": [
       "<div>\n",
       "<style scoped>\n",
       "    .dataframe tbody tr th:only-of-type {\n",
       "        vertical-align: middle;\n",
       "    }\n",
       "\n",
       "    .dataframe tbody tr th {\n",
       "        vertical-align: top;\n",
       "    }\n",
       "\n",
       "    .dataframe thead th {\n",
       "        text-align: right;\n",
       "    }\n",
       "</style>\n",
       "<table border=\"1\" class=\"dataframe\">\n",
       "  <thead>\n",
       "    <tr style=\"text-align: right;\">\n",
       "      <th></th>\n",
       "      <th>customer_city</th>\n",
       "      <th>price</th>\n",
       "    </tr>\n",
       "  </thead>\n",
       "  <tbody>\n",
       "    <tr>\n",
       "      <th>3588</th>\n",
       "      <td>sao paulo</td>\n",
       "      <td>107.415274</td>\n",
       "    </tr>\n",
       "  </tbody>\n",
       "</table>\n",
       "</div>"
      ],
      "text/plain": [
       "     customer_city       price\n",
       "3588     sao paulo  107.415274"
      ]
     },
     "execution_count": 4,
     "metadata": {},
     "output_type": "execute_result"
    }
   ],
   "source": [
    "city.head()"
   ]
  }
 ],
 "metadata": {
  "kernelspec": {
   "display_name": "Python 3",
   "language": "python",
   "name": "python3"
  },
  "language_info": {
   "codemirror_mode": {
    "name": "ipython",
    "version": 3
   },
   "file_extension": ".py",
   "mimetype": "text/x-python",
   "name": "python",
   "nbconvert_exporter": "python",
   "pygments_lexer": "ipython3",
   "version": "3.6.8"
  }
 },
 "nbformat": 4,
 "nbformat_minor": 2
}
